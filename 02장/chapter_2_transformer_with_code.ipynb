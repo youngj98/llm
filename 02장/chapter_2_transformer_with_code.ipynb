{
  "cells": [
    {
      "cell_type": "markdown",
      "metadata": {
        "id": "mr7FmYqAi6y2"
      },
      "source": [
        "## 예제 2.1 토큰화 코드"
      ]
    },
    {
      "cell_type": "code",
      "execution_count": 1,
      "metadata": {
        "colab": {
          "base_uri": "https://localhost:8080/"
        },
        "id": "f3K1on7SMnXj",
        "outputId": "11383223-1bb8-4a96-ef4a-958c476d78fa"
      },
      "outputs": [
        {
          "output_type": "stream",
          "name": "stdout",
          "text": [
            "input_text_list:  ['나는', '최근', '파리', '여행을', '다녀왔다']\n",
            "str2idx:  {'나는': 0, '최근': 1, '파리': 2, '여행을': 3, '다녀왔다': 4}\n",
            "idx2str:  {0: '나는', 1: '최근', 2: '파리', 3: '여행을', 4: '다녀왔다'}\n",
            "input_ids:  [0, 1, 2, 3, 4]\n"
          ]
        }
      ],
      "source": [
        "# 띄어쓰기 단위로 분리\n",
        "input_text = \"나는 최근 파리 여행을 다녀왔다\"\n",
        "input_text_list = input_text.split()  # 띄어쓰기 단위로 분리\n",
        "print(\"input_text_list: \", input_text_list)\n",
        "\n",
        "# 토큰 -> 아이디 딕셔너리와 아이디 -> 토큰 딕셔너리 만들기\n",
        "str2idx = {word:idx for idx, word in enumerate(input_text_list)}  # 생성한 토큰에 아이디 부여해서 사전 생성\n",
        "idx2str = {idx:word for idx, word in enumerate(input_text_list)}\n",
        "print(\"str2idx: \", str2idx)\n",
        "print(\"idx2str: \", idx2str)\n",
        "\n",
        "# 토큰을 토큰 아이디로 변환\n",
        "input_ids = [str2idx[word] for word in input_text_list] # 각각의 토큰을 사전을 통해 아이디로 변환\n",
        "print(\"input_ids: \", input_ids)"
      ]
    },
    {
      "cell_type": "markdown",
      "metadata": {
        "id": "CX95psBGjELL"
      },
      "source": [
        "## 예제 2.2 토큰 아이디에서 벡터로 변환"
      ]
    },
    {
      "cell_type": "code",
      "execution_count": 2,
      "metadata": {
        "colab": {
          "base_uri": "https://localhost:8080/"
        },
        "id": "dCKTtOt9NvFA",
        "outputId": "97f0d745-80f2-4148-a07d-d5fe740ef8a4"
      },
      "outputs": [
        {
          "output_type": "execute_result",
          "data": {
            "text/plain": [
              "torch.Size([1, 5, 16])"
            ]
          },
          "metadata": {},
          "execution_count": 2
        }
      ],
      "source": [
        "import torch\n",
        "import torch.nn as nn\n",
        "\n",
        "embedding_dim = 16\n",
        "embed_layer = nn.Embedding(len(str2idx), embedding_dim) # (토큰 개수, 임베딩 차원)의 임베딩 층 생성\n",
        "\n",
        "input_embeddings = embed_layer(torch.tensor(input_ids)) # (5, 16) 임베딩 층에 토큰을 넣어 변환\n",
        "input_embeddings = input_embeddings.unsqueeze(0) # (1, 5, 16) 0번째 차원에 1인 차원 생성\n",
        "input_embeddings.shape"
      ]
    },
    {
      "cell_type": "markdown",
      "metadata": {
        "id": "FwClYMSSjLjp"
      },
      "source": [
        "## 예제 2.3 절대적 위치 인코딩"
      ]
    },
    {
      "cell_type": "code",
      "execution_count": 3,
      "metadata": {
        "colab": {
          "base_uri": "https://localhost:8080/"
        },
        "id": "ws1A-ALkjLWH",
        "outputId": "6f87607d-a559-402d-c534-ec2db5166cbf"
      },
      "outputs": [
        {
          "output_type": "execute_result",
          "data": {
            "text/plain": [
              "torch.Size([1, 5, 16])"
            ]
          },
          "metadata": {},
          "execution_count": 3
        }
      ],
      "source": [
        "embedding_dim = 16\n",
        "max_position = 12 # 최대 토큰 수 (최대 문장 길이)\n",
        "# 토큰 임베딩 층 생성\n",
        "embed_layer = nn.Embedding(len(str2idx), embedding_dim)\n",
        "# 위치 인코딩 층 생성\n",
        "position_embed_layer = nn.Embedding(max_position, embedding_dim)  # (최대 토큰 수, 임베딩 차원)의 위치 임베딩 층 생성\n",
        "\n",
        "position_ids = torch.arange(len(input_ids), dtype=torch.long).unsqueeze(0)  # 입력 토큰에 맞춰 위치 아이디 생성\n",
        "position_encodings = position_embed_layer(position_ids) # 위치 임베딩 층에 위치 아이디를 넣어 위치 인코딩 생성\n",
        "token_embeddings = embed_layer(torch.tensor(input_ids)) # (5, 16)\n",
        "token_embeddings = token_embeddings.unsqueeze(0) # (1, 5, 16)\n",
        "# 토큰 임베딩과 위치 인코딩을 더해 최종 입력 임베딩 생성\n",
        "input_embeddings = token_embeddings + position_encodings  # 토큰 임베딩에 위치 인코딩 더해서 최종 입력 임베딩 생성\n",
        "input_embeddings.shape"
      ]
    },
    {
      "cell_type": "markdown",
      "metadata": {
        "id": "0MBYHKRMkCDs"
      },
      "source": [
        "## 예제 2.4 쿼리, 키, 값 벡터를 만드는 nn.Linear 층"
      ]
    },
    {
      "cell_type": "code",
      "execution_count": 4,
      "metadata": {
        "id": "Rse5Xy6_jhok"
      },
      "outputs": [],
      "source": [
        "head_dim = 16\n",
        "\n",
        "# 쿼리, 키, 값을 계산하기 위한 변환\n",
        "weight_q = nn.Linear(embedding_dim, head_dim) # 쿼리 가중치 층 생성\n",
        "weight_k = nn.Linear(embedding_dim, head_dim) # 키 가중치 층 생성\n",
        "weight_v = nn.Linear(embedding_dim, head_dim) # 값 가중치 층 생성\n",
        "# 변환 수행\n",
        "querys = weight_q(input_embeddings) # (1, 5, 16)  # 쿼리에 가중치 부여\n",
        "keys = weight_k(input_embeddings) # (1, 5, 16)    # 키에 가중치 부여\n",
        "values = weight_v(input_embeddings) # (1, 5, 16)  # 값에 가중치 부여"
      ]
    },
    {
      "cell_type": "markdown",
      "metadata": {
        "id": "wfitct-lkSP2"
      },
      "source": [
        "## 예제 2.5. 스케일 점곱 방식의 어텐션"
      ]
    },
    {
      "cell_type": "code",
      "execution_count": 5,
      "metadata": {
        "id": "nftEA3lFkSwl"
      },
      "outputs": [],
      "source": [
        "from math import sqrt\n",
        "import torch.nn.functional as F\n",
        "\n",
        "def compute_attention(querys, keys, values, is_causal=False):\n",
        "\tdim_k = querys.size(-1) # 16\n",
        "\tscores = querys @ keys.transpose(-2, -1) / sqrt(dim_k)\t# 쿼리와 키를 곱함\n",
        "\tweights = F.softmax(scores, dim=-1)\t# 소프트맥스 함수를 통해 합이 1이 되도록 변환\n",
        "\treturn weights @ values\t# 가중치와 값을 곱한 후 반환"
      ]
    },
    {
      "cell_type": "markdown",
      "metadata": {
        "id": "CzHY8tvlkiTl"
      },
      "source": [
        "## 예제 2.6. 어텐션 연산의 입력과 출력"
      ]
    },
    {
      "cell_type": "code",
      "execution_count": 6,
      "metadata": {
        "colab": {
          "base_uri": "https://localhost:8080/"
        },
        "id": "h4evxbjRkfIi",
        "outputId": "bdb340c3-7afd-4c37-a868-9d27414aa131"
      },
      "outputs": [
        {
          "output_type": "stream",
          "name": "stdout",
          "text": [
            "원본 입력 형태:  torch.Size([1, 5, 16])\n",
            "어텐션 적용 후 형태:  torch.Size([1, 5, 16])\n"
          ]
        }
      ],
      "source": [
        "print(\"원본 입력 형태: \", input_embeddings.shape)\n",
        "\n",
        "after_attention_embeddings = compute_attention(querys, keys, values)  # 어텐션 계산\n",
        "\n",
        "print(\"어텐션 적용 후 형태: \", after_attention_embeddings.shape)  # 형태 확인\n",
        "# 원본 입력 형태:  torch.Size([1, 5, 16])\n",
        "# 어텐션 적용 후 형태:  torch.Size([1, 5, 16])"
      ]
    },
    {
      "cell_type": "markdown",
      "metadata": {
        "id": "OKv4X9rsknXs"
      },
      "source": [
        "## 예제 2.7. 어텐션 연산을 수행하는 AttentionHead 클래스"
      ]
    },
    {
      "cell_type": "code",
      "execution_count": 8,
      "metadata": {
        "id": "3HWTZ4jukn5p"
      },
      "outputs": [],
      "source": [
        "class AttentionHead(nn.Module):\n",
        "  def __init__(self, token_embed_dim, head_dim, is_causal=False):\n",
        "    super().__init__()\n",
        "    self.is_causal = is_causal\n",
        "    self.weight_q = nn.Linear(token_embed_dim, head_dim) # 쿼리 벡터 생성을 위한 선형 층\n",
        "    self.weight_k = nn.Linear(token_embed_dim, head_dim) # 키 벡터 생성을 위한 선형 층\n",
        "    self.weight_v = nn.Linear(token_embed_dim, head_dim) # 값 벡터 생성을 위한 선형 층\n",
        "\n",
        "  def forward(self, querys, keys, values):\n",
        "    outputs = compute_attention(\n",
        "        self.weight_q(querys),  # 쿼리 벡터\n",
        "        self.weight_k(keys),    # 키 벡터\n",
        "        self.weight_v(values),  # 값 벡터\n",
        "        is_causal=self.is_causal\n",
        "    )\n",
        "    return outputs\n",
        "\n",
        "attention_head = AttentionHead(embedding_dim, embedding_dim)  # 어텐션 헤드 생성\n",
        "after_attention_embeddings = attention_head(input_embeddings, input_embeddings, input_embeddings) # 어텐션 적용"
      ]
    },
    {
      "cell_type": "markdown",
      "metadata": {
        "id": "30IXVnNElE2O"
      },
      "source": [
        "## 예제 2.8. 멀티 헤드 어텐션 구현"
      ]
    },
    {
      "cell_type": "code",
      "execution_count": 16,
      "metadata": {
        "colab": {
          "base_uri": "https://localhost:8080/"
        },
        "id": "a-qTbFVMlFND",
        "outputId": "09a411ec-61d4-4b0a-f9a3-8e4d8ad1dd34"
      },
      "outputs": [
        {
          "output_type": "execute_result",
          "data": {
            "text/plain": [
              "torch.Size([1, 5, 16])"
            ]
          },
          "metadata": {},
          "execution_count": 16
        }
      ],
      "source": [
        "class MultiheadAttention(nn.Module):\n",
        "  def __init__(self, token_embed_dim, d_model, n_head, is_causal=False):\n",
        "    super().__init__()\n",
        "    self.n_head = n_head\n",
        "    self.is_causal = is_causal\n",
        "    self.weight_q = nn.Linear(token_embed_dim, d_model) # 쿼리 벡터 생성을 위한 선형 층\n",
        "    self.weight_k = nn.Linear(token_embed_dim, d_model) # 키 벡터 생성을 위한 선형 층\n",
        "    self.weight_v = nn.Linear(token_embed_dim, d_model) # 값 벡터 생성을 위한 선형 층\n",
        "    self.concat_linear = nn.Linear(d_model, d_model)\n",
        "\n",
        "  def forward(self, querys, keys, values):\n",
        "    B, T, C = querys.size()\n",
        "    querys = self.weight_q(querys).view(B, T, self.n_head, C // self.n_head).transpose(1, 2)  # 쿼리를 헤드 수만큼 분리\n",
        "    keys = self.weight_k(keys).view(B, T, self.n_head, C // self.n_head).transpose(1, 2)  # 키를 헤드 수만큼 분리\n",
        "    values = self.weight_v(values).view(B, T, self.n_head, C // self.n_head).transpose(1, 2)  # 값을 헤드 수만큼 분리\n",
        "    attention = compute_attention(querys, keys, values, self.is_causal) # 어텐션 연산\n",
        "    output = attention.transpose(1, 2).contiguous().view(B, T, C)\n",
        "    output = self.concat_linear(output) # 선형 층 통과\n",
        "    return output\n",
        "\n",
        "n_head = 4\n",
        "mh_attention = MultiheadAttention(embedding_dim, embedding_dim, n_head)\n",
        "after_attention_embeddings = mh_attention(input_embeddings, input_embeddings, input_embeddings)\n",
        "after_attention_embeddings.shape"
      ]
    },
    {
      "cell_type": "markdown",
      "metadata": {
        "id": "iWtHyqa_mAtB"
      },
      "source": [
        "## 예제 2.9. 층 정규화 코드"
      ]
    },
    {
      "cell_type": "code",
      "execution_count": 17,
      "metadata": {
        "colab": {
          "base_uri": "https://localhost:8080/"
        },
        "id": "ikXwtWFBl5zw",
        "outputId": "2f1cf4c5-f5f9-4370-9e58-8dea0b7e6587"
      },
      "outputs": [
        {
          "output_type": "execute_result",
          "data": {
            "text/plain": [
              "(tensor([[ 3.7253e-09,  2.2352e-08, -1.8626e-09,  3.7253e-08,  1.4901e-08]]),\n",
              " tensor([[1.0328, 1.0328, 1.0328, 1.0328, 1.0328]]))"
            ]
          },
          "metadata": {},
          "execution_count": 17
        }
      ],
      "source": [
        "norm = nn.LayerNorm(embedding_dim)  # 층 정규화 층 생성\n",
        "norm_x = norm(input_embeddings) # 층 정규화 진행\n",
        "norm_x.shape # torch.Size([1, 5, 16])\n",
        "\n",
        "norm_x.mean(dim=-1).data, norm_x.std(dim=-1).data\n",
        "\n",
        "# (tensor([[ 2.2352e-08, -1.1176e-08, -7.4506e-09, -3.9116e-08, -1.8626e-08]]),\n",
        "#  tensor([[1.0328, 1.0328, 1.0328, 1.0328, 1.0328]]))"
      ]
    },
    {
      "cell_type": "markdown",
      "metadata": {
        "id": "nkeIvwCYnSOs"
      },
      "source": [
        "## 예제 2.10. 피드 포워드 층 코드"
      ]
    },
    {
      "cell_type": "code",
      "execution_count": null,
      "metadata": {
        "id": "3e9702XvnSrT"
      },
      "outputs": [],
      "source": [
        "class PreLayerNormFeedForward(nn.Module):\n",
        "  def __init__(self, d_model, dim_feedforward, dropout):\n",
        "    super().__init__()\n",
        "    self.linear1 = nn.Linear(d_model, dim_feedforward) # 선형 층 1\n",
        "    self.linear2 = nn.Linear(dim_feedforward, d_model) # 선형 층 2\n",
        "    self.dropout1 = nn.Dropout(dropout) # 드랍아웃 층 1\n",
        "    self.dropout2 = nn.Dropout(dropout) # 드랍아웃 층 2\n",
        "    self.activation = nn.GELU() # 활성 함수\n",
        "    self.norm = nn.LayerNorm(d_model) # 층 정규화\n",
        "\n",
        "  def forward(self, src):\n",
        "    x = self.norm(src)\n",
        "    x = x + self.linear2(self.dropout1(self.activation(self.linear1(x))))\n",
        "    x = self.dropout2(x)\n",
        "    return x"
      ]
    },
    {
      "cell_type": "markdown",
      "metadata": {
        "id": "qq3eJqRInWWS"
      },
      "source": [
        "## 예제 2.11. 인코더 층"
      ]
    },
    {
      "cell_type": "code",
      "execution_count": null,
      "metadata": {
        "id": "QNCFpdVknUVa"
      },
      "outputs": [],
      "source": [
        "class TransformerEncoderLayer(nn.Module):\n",
        "  def __init__(self, d_model, nhead, dim_feedforward, dropout):\n",
        "    super().__init__()\n",
        "    self.attn = MultiheadAttention(d_model, d_model, nhead) # 멀티 헤드 어텐션 클래스\n",
        "    self.norm1 = nn.LayerNorm(d_model) # 층 정규화\n",
        "    self.dropout1 = nn.Dropout(dropout) # 드랍아웃\n",
        "    self.feed_forward = PreLayerNormFeedForward(d_model, dim_feedforward, dropout) # 피드포워드\n",
        "\n",
        "  def forward(self, src):\n",
        "    norm_x = self.norm1(src)\n",
        "    attn_output = self.attn(norm_x, norm_x, norm_x)\n",
        "    x = src + self.dropout1(attn_output) # 잔차 연결\n",
        "\n",
        "    # 피드 포워드\n",
        "    x = self.feed_forward(x)\n",
        "    return x"
      ]
    },
    {
      "cell_type": "markdown",
      "metadata": {
        "id": "W7acyE0lnc5L"
      },
      "source": [
        "## 예제 2.12. 인코더 구현"
      ]
    },
    {
      "cell_type": "code",
      "execution_count": null,
      "metadata": {
        "id": "Ty7TTF55nYDr"
      },
      "outputs": [],
      "source": [
        "import copy\n",
        "def get_clones(module, N):\n",
        "  return nn.ModuleList([copy.deepcopy(module) for i in range(N)])\n",
        "\n",
        "class TransformerEncoder(nn.Module):\n",
        "  def __init__(self, encoder_layer, num_layers):\n",
        "    super().__init__()\n",
        "    self.layers = get_clones(encoder_layer, num_layers)\n",
        "    self.num_layers = num_layers\n",
        "    self.norm = norm\n",
        "\n",
        "  def forward(self, src):\n",
        "    output = src\n",
        "    for mod in self.layers:\n",
        "        output = mod(output)\n",
        "    return output"
      ]
    },
    {
      "cell_type": "markdown",
      "metadata": {
        "id": "2dJpZJGrnhMI"
      },
      "source": [
        "## 예제 2.13. 디코더에서 어텐션 연산(마스크 어텐션)"
      ]
    },
    {
      "cell_type": "code",
      "execution_count": null,
      "metadata": {
        "id": "y2nBX5monelI"
      },
      "outputs": [],
      "source": [
        "def compute_attention(querys, keys, values, is_causal=False):\n",
        "\tdim_k = querys.size(-1) # 16\n",
        "\tscores = querys @ keys.transpose(-2, -1) / sqrt(dim_k) # (1, 5, 5)\n",
        "\tif is_causal:\n",
        "\t\tquery_length = querys.size(2)\n",
        "\t\tkey_length = keys.size(2)\n",
        "\t\ttemp_mask = torch.ones(query_length, key_length, dtype=torch.bool).tril(diagonal=0)\n",
        "\t\tscores = scores.masked_fill(temp_mask == False, float(\"-inf\"))\n",
        "\tweights = F.softmax(scores, dim=-1) # (1, 5, 5)\n",
        "\treturn weights @ values # (1, 5, 16)"
      ]
    },
    {
      "cell_type": "markdown",
      "metadata": {
        "id": "5jxCS_lunl_7"
      },
      "source": [
        "## 예제 2.14. 크로스 어텐션이 포함된 디코더 층"
      ]
    },
    {
      "cell_type": "code",
      "execution_count": null,
      "metadata": {
        "id": "b7youbG9njnW"
      },
      "outputs": [],
      "source": [
        "class TransformerDecoderLayer(nn.Module):\n",
        "  def __init__(self, d_model, nhead, dim_feedforward=2048, dropout=0.1):\n",
        "    super().__init__()\n",
        "    self.self_attn = MultiheadAttention(d_model, d_model, nhead)\n",
        "    self.multihead_attn = MultiheadAttention(d_model, d_model, nhead)\n",
        "    self.feed_forward = PreLayerNormFeedForward(d_model, dim_feedforward, dropout)\n",
        "\n",
        "    self.norm1 = nn.LayerNorm(d_model)\n",
        "    self.norm2 = nn.LayerNorm(d_model)\n",
        "    self.dropout1 = nn.Dropout(dropout)\n",
        "    self.dropout2 = nn.Dropout(dropout)\n",
        "\n",
        "  def forward(self, tgt, encoder_output, is_causal=True):\n",
        "    # 셀프 어텐션 연산\n",
        "    x = self.norm1(tgt)\n",
        "    x = x + self.dropout1(self.self_attn(x, x, x, is_causal=is_causal))\n",
        "    # 크로스 어텐션 연산\n",
        "    x = self.norm2(x)\n",
        "    x = x + self.dropout2(self.multihead_attn(x, encoder_output, encoder_output))\n",
        "    # 피드 포워드 연산\n",
        "    x = self.feed_forward(x)\n",
        "    return x"
      ]
    },
    {
      "cell_type": "markdown",
      "metadata": {
        "id": "l218C0ZOnqDO"
      },
      "source": [
        "## 예제 2.15. 디코더 구현"
      ]
    },
    {
      "cell_type": "code",
      "execution_count": null,
      "metadata": {
        "id": "7meGa10vnnw1"
      },
      "outputs": [],
      "source": [
        "import copy\n",
        "def get_clones(module, N):\n",
        "  return nn.ModuleList([copy.deepcopy(module) for i in range(N)])\n",
        "\n",
        "class TransformerDecoder(nn.Module):\n",
        "  def __init__(self, decoder_layer, num_layers):\n",
        "    super().__init__()\n",
        "    self.layers = get_clones(decoder_layer, num_layers)\n",
        "    self.num_layers = num_layers\n",
        "\n",
        "  def forward(self, tgt, src):\n",
        "    output = tgt\n",
        "    for mod in self.layers:\n",
        "        output = mod(tgt, src)\n",
        "    return output"
      ]
    }
  ],
  "metadata": {
    "colab": {
      "provenance": []
    },
    "kernelspec": {
      "display_name": "Python 3 (ipykernel)",
      "language": "python",
      "name": "python3"
    },
    "language_info": {
      "codemirror_mode": {
        "name": "ipython",
        "version": 3
      },
      "file_extension": ".py",
      "mimetype": "text/x-python",
      "name": "python",
      "nbconvert_exporter": "python",
      "pygments_lexer": "ipython3",
      "version": "3.11.4"
    }
  },
  "nbformat": 4,
  "nbformat_minor": 0
}